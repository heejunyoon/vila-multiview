{
 "cells": [
  {
   "cell_type": "code",
   "execution_count": 5,
   "metadata": {},
   "outputs": [],
   "source": [
    "from PIL import Image, ImageDraw\n",
    "\n",
    "# 기본 설정\n",
    "image_size = 384\n",
    "grid_size = 14\n",
    "num_grids = image_size // grid_size  # 27칸\n",
    "background_color = (0, 0, 0)\n",
    "circle_color = (255, 0, 0)\n",
    "square_color = (0, 255, 0)\n",
    "\n",
    "# 도형을 그릴 그리드 좌표\n",
    "shapes = [(2, 3, 'circle'), (7, 6, 'square')]\n",
    "shift_x = 5  # 두 번째 이미지를 위한 x축 평행이동\n",
    "\n",
    "def create_image(shift=0, circle_color=circle_color, square_color=square_color):\n",
    "    img = Image.new('RGB', (image_size, image_size), background_color)\n",
    "    draw = ImageDraw.Draw(img)\n",
    "\n",
    "    for x, y, shape_type in shapes:\n",
    "        # 평행 이동\n",
    "        x_shifted = x + shift\n",
    "        top_left = (x_shifted * grid_size, y * grid_size)\n",
    "        bottom_right = ((x_shifted + 1) * grid_size, (y + 1) * grid_size)\n",
    "\n",
    "        if shape_type == 'circle':\n",
    "            draw.ellipse([top_left, bottom_right], fill=circle_color)\n",
    "        elif shape_type == 'square':\n",
    "            draw.rectangle([top_left, bottom_right], fill=square_color)\n",
    "\n",
    "    return img\n",
    "\n",
    "# 이미지 생성\n",
    "image1 = create_image(shift=0)\n",
    "image2 = create_image(shift_x) #, (255, 255, 0), (0, 255, 255)\n",
    "\n",
    "# 결과 보기 또는 저장\n",
    "# image1.show(title=\"Image 1\")\n",
    "# image2.show(title=\"Image 2\")\n",
    "# 또는 저장하려면\n",
    "# image1.save(\"image1.png\")\n",
    "image2.save(\"image2_1.png\")\n"
   ]
  },
  {
   "cell_type": "code",
   "execution_count": null,
   "metadata": {},
   "outputs": [],
   "source": []
  }
 ],
 "metadata": {
  "kernelspec": {
   "display_name": "mast3r",
   "language": "python",
   "name": "python3"
  },
  "language_info": {
   "codemirror_mode": {
    "name": "ipython",
    "version": 3
   },
   "file_extension": ".py",
   "mimetype": "text/x-python",
   "name": "python",
   "nbconvert_exporter": "python",
   "pygments_lexer": "ipython3",
   "version": "3.11.11"
  }
 },
 "nbformat": 4,
 "nbformat_minor": 2
}
